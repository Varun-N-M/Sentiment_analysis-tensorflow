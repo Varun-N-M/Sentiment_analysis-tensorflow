{
 "cells": [
  {
   "cell_type": "code",
   "execution_count": 14,
   "id": "74bdae46",
   "metadata": {
    "ExecuteTime": {
     "end_time": "2022-12-27T12:06:40.475429Z",
     "start_time": "2022-12-27T12:05:47.176026Z"
    }
   },
   "outputs": [],
   "source": [
    "import numpy as np\n",
    "import pandas as pd\n",
    "import tensorflow as tf\n",
    "import scipy as sci\n",
    "import matplotlib.pyplot as plt\n",
    "\n",
    "from sklearn.model_selection import train_test_split\n",
    "from sklearn.feature_extraction.text import TfidfVectorizer\n",
    "\n",
    "from tensorflow.keras.models import Sequential\n",
    "from tensorflow.keras.layers import Dense"
   ]
  },
  {
   "cell_type": "code",
   "execution_count": 2,
   "id": "95f3b7e0",
   "metadata": {
    "ExecuteTime": {
     "end_time": "2022-12-27T10:44:49.379305Z",
     "start_time": "2022-12-27T10:44:48.873616Z"
    }
   },
   "outputs": [
    {
     "data": {
      "text/html": [
       "<div>\n",
       "<style scoped>\n",
       "    .dataframe tbody tr th:only-of-type {\n",
       "        vertical-align: middle;\n",
       "    }\n",
       "\n",
       "    .dataframe tbody tr th {\n",
       "        vertical-align: top;\n",
       "    }\n",
       "\n",
       "    .dataframe thead th {\n",
       "        text-align: right;\n",
       "    }\n",
       "</style>\n",
       "<table border=\"1\" class=\"dataframe\">\n",
       "  <thead>\n",
       "    <tr style=\"text-align: right;\">\n",
       "      <th></th>\n",
       "      <th>clean_text</th>\n",
       "      <th>airline_sentiment</th>\n",
       "    </tr>\n",
       "  </thead>\n",
       "  <tbody>\n",
       "    <tr>\n",
       "      <th>0</th>\n",
       "      <td>virginamerica dhepburn said</td>\n",
       "      <td>1</td>\n",
       "    </tr>\n",
       "    <tr>\n",
       "      <th>1</th>\n",
       "      <td>virginamerica plus added commercials experienc...</td>\n",
       "      <td>2</td>\n",
       "    </tr>\n",
       "    <tr>\n",
       "      <th>2</th>\n",
       "      <td>virginamerica today must mean need take anothe...</td>\n",
       "      <td>1</td>\n",
       "    </tr>\n",
       "    <tr>\n",
       "      <th>3</th>\n",
       "      <td>virginamerica really aggressive blast obnoxiou...</td>\n",
       "      <td>0</td>\n",
       "    </tr>\n",
       "    <tr>\n",
       "      <th>4</th>\n",
       "      <td>virginamerica really big bad thing</td>\n",
       "      <td>0</td>\n",
       "    </tr>\n",
       "  </tbody>\n",
       "</table>\n",
       "</div>"
      ],
      "text/plain": [
       "                                          clean_text  airline_sentiment\n",
       "0                        virginamerica dhepburn said                  1\n",
       "1  virginamerica plus added commercials experienc...                  2\n",
       "2  virginamerica today must mean need take anothe...                  1\n",
       "3  virginamerica really aggressive blast obnoxiou...                  0\n",
       "4                 virginamerica really big bad thing                  0"
      ]
     },
     "execution_count": 2,
     "metadata": {},
     "output_type": "execute_result"
    }
   ],
   "source": [
    "df = pd.read_csv('cleaned_tweets_data.csv',index_col=0)\n",
    "df.head()\n"
   ]
  },
  {
   "cell_type": "code",
   "execution_count": 3,
   "id": "67cf9ee0",
   "metadata": {
    "ExecuteTime": {
     "end_time": "2022-12-27T10:44:49.442778Z",
     "start_time": "2022-12-27T10:44:49.422163Z"
    }
   },
   "outputs": [],
   "source": [
    "x = df['clean_text']\n",
    "y = df['airline_sentiment']"
   ]
  },
  {
   "cell_type": "code",
   "execution_count": 4,
   "id": "b2a51470",
   "metadata": {
    "ExecuteTime": {
     "end_time": "2022-12-27T10:44:49.614153Z",
     "start_time": "2022-12-27T10:44:49.445230Z"
    }
   },
   "outputs": [],
   "source": [
    "x_train,x_test,y_train,y_test = train_test_split(x,y,test_size=0.25,random_state=25)"
   ]
  },
  {
   "cell_type": "code",
   "execution_count": 5,
   "id": "2ce0880d",
   "metadata": {
    "ExecuteTime": {
     "end_time": "2022-12-27T10:44:50.142333Z",
     "start_time": "2022-12-27T10:44:49.616154Z"
    }
   },
   "outputs": [],
   "source": [
    "tfidf_vect = TfidfVectorizer()\n",
    "x_train = tfidf_vect.fit_transform(x_train)   \n",
    "x_test = tfidf_vect.transform(x_test)    #We always fit transform train data but transform test data"
   ]
  },
  {
   "cell_type": "code",
   "execution_count": 6,
   "id": "8f73a480",
   "metadata": {
    "ExecuteTime": {
     "end_time": "2022-12-27T10:44:50.421690Z",
     "start_time": "2022-12-27T10:44:50.144333Z"
    }
   },
   "outputs": [],
   "source": [
    "x_train = sci.sparse.csr_matrix.todense(x_train)\n",
    "x_test = sci.sparse.csr_matrix.todense(x_test)"
   ]
  },
  {
   "cell_type": "code",
   "execution_count": 7,
   "id": "a31ff23d",
   "metadata": {
    "ExecuteTime": {
     "end_time": "2022-12-27T10:44:50.437642Z",
     "start_time": "2022-12-27T10:44:50.423680Z"
    }
   },
   "outputs": [
    {
     "data": {
      "text/plain": [
       "(10980, 11538)"
      ]
     },
     "execution_count": 7,
     "metadata": {},
     "output_type": "execute_result"
    }
   ],
   "source": [
    "x_train.shape"
   ]
  },
  {
   "cell_type": "code",
   "execution_count": 9,
   "id": "d38f3fdf",
   "metadata": {
    "ExecuteTime": {
     "end_time": "2022-12-27T11:25:35.005546Z",
     "start_time": "2022-12-27T11:25:28.871756Z"
    }
   },
   "outputs": [],
   "source": [
    "model = Sequential([\n",
    "    Dense(12000,activation='relu',input_shape = (x_train.shape[1],)),\n",
    "    Dense(5000,activation='relu'),\n",
    "    Dense(3000,activation='relu'),\n",
    "    Dense(3,activation='softmax')    \n",
    "])"
   ]
  },
  {
   "cell_type": "code",
   "execution_count": 10,
   "id": "81fb266a",
   "metadata": {
    "ExecuteTime": {
     "end_time": "2022-12-27T11:27:35.539437Z",
     "start_time": "2022-12-27T11:27:35.420064Z"
    }
   },
   "outputs": [
    {
     "name": "stdout",
     "output_type": "stream",
     "text": [
      "Model: \"sequential\"\n",
      "_________________________________________________________________\n",
      " Layer (type)                Output Shape              Param #   \n",
      "=================================================================\n",
      " dense (Dense)               (None, 12000)             138468000 \n",
      "                                                                 \n",
      " dense_1 (Dense)             (None, 5000)              60005000  \n",
      "                                                                 \n",
      " dense_2 (Dense)             (None, 3000)              15003000  \n",
      "                                                                 \n",
      " dense_3 (Dense)             (None, 3)                 9003      \n",
      "                                                                 \n",
      "=================================================================\n",
      "Total params: 213,485,003\n",
      "Trainable params: 213,485,003\n",
      "Non-trainable params: 0\n",
      "_________________________________________________________________\n"
     ]
    }
   ],
   "source": [
    "model.summary()"
   ]
  },
  {
   "cell_type": "code",
   "execution_count": 11,
   "id": "aea4890f",
   "metadata": {
    "ExecuteTime": {
     "end_time": "2022-12-27T11:29:00.030376Z",
     "start_time": "2022-12-27T11:28:59.896893Z"
    }
   },
   "outputs": [],
   "source": [
    "model.compile(optimizer='adam',loss='SparseCategoricalCrossentropy',metrics=['accuracy'])"
   ]
  },
  {
   "cell_type": "code",
   "execution_count": 12,
   "id": "d4f8eda0",
   "metadata": {
    "ExecuteTime": {
     "end_time": "2022-12-27T12:03:24.471948Z",
     "start_time": "2022-12-27T11:29:14.726662Z"
    }
   },
   "outputs": [
    {
     "name": "stdout",
     "output_type": "stream",
     "text": [
      "Epoch 1/10\n",
      "22/22 [==============================] - 414s 15s/step - loss: 0.8219 - accuracy: 0.6070 - val_loss: 0.6675 - val_accuracy: 0.6732\n",
      "Epoch 2/10\n",
      "22/22 [==============================] - 227s 10s/step - loss: 0.4506 - accuracy: 0.8527 - val_loss: 0.7189 - val_accuracy: 0.7765\n",
      "Epoch 3/10\n",
      "22/22 [==============================] - 172s 8s/step - loss: 0.1235 - accuracy: 0.9618 - val_loss: 0.9201 - val_accuracy: 0.7719\n",
      "Epoch 4/10\n",
      "22/22 [==============================] - 193s 9s/step - loss: 0.0433 - accuracy: 0.9879 - val_loss: 0.9863 - val_accuracy: 0.7784\n",
      "Epoch 5/10\n",
      "22/22 [==============================] - 169s 8s/step - loss: 0.0235 - accuracy: 0.9924 - val_loss: 1.0611 - val_accuracy: 0.7790\n",
      "Epoch 6/10\n",
      "22/22 [==============================] - 169s 8s/step - loss: 0.0178 - accuracy: 0.9935 - val_loss: 1.0631 - val_accuracy: 0.7762\n",
      "Epoch 7/10\n",
      "22/22 [==============================] - 170s 8s/step - loss: 0.0150 - accuracy: 0.9950 - val_loss: 1.0939 - val_accuracy: 0.7787\n",
      "Epoch 8/10\n",
      "22/22 [==============================] - 169s 8s/step - loss: 0.0130 - accuracy: 0.9950 - val_loss: 1.1520 - val_accuracy: 0.7770\n",
      "Epoch 9/10\n",
      "22/22 [==============================] - 169s 8s/step - loss: 0.0129 - accuracy: 0.9945 - val_loss: 1.1459 - val_accuracy: 0.7803\n",
      "Epoch 10/10\n",
      "22/22 [==============================] - 170s 8s/step - loss: 0.0114 - accuracy: 0.9954 - val_loss: 1.1595 - val_accuracy: 0.7795\n"
     ]
    }
   ],
   "source": [
    "history = model.fit(x_train,y_train,batch_size=500, epochs=10,validation_data=(x_test,y_test))"
   ]
  },
  {
   "cell_type": "code",
   "execution_count": 15,
   "id": "1177a1a2",
   "metadata": {
    "ExecuteTime": {
     "end_time": "2022-12-27T12:06:59.199345Z",
     "start_time": "2022-12-27T12:06:45.162092Z"
    }
   },
   "outputs": [
    {
     "data": {
      "text/plain": [
       "<matplotlib.legend.Legend at 0x22d6f5a98b0>"
      ]
     },
     "execution_count": 15,
     "metadata": {},
     "output_type": "execute_result"
    },
    {
     "data": {
      "image/png": "[encoded data removed]",
      "text/plain": [
       "<Figure size 432x288 with 1 Axes>"
      ]
     },
     "metadata": {
      "needs_background": "light"
     },
     "output_type": "display_data"
    }
   ],
   "source": [
    "plt.plot(history.history['loss'])\n",
    "plt.plot(history.history['val_loss'])\n",
    "plt.xlabel('Epochs')\n",
    "plt.ylabel('loss')\n",
    "plt.title('loss Plot')\n",
    "plt.legend(['train','test'])"
   ]
  },
  {
   "cell_type": "code",
   "execution_count": 16,
   "id": "5c38216b",
   "metadata": {
    "ExecuteTime": {
     "end_time": "2022-12-27T12:06:59.582752Z",
     "start_time": "2022-12-27T12:06:59.206996Z"
    }
   },
   "outputs": [
    {
     "data": {
      "text/plain": [
       "<matplotlib.legend.Legend at 0x22d6fca9ac0>"
      ]
     },
     "execution_count": 16,
     "metadata": {},
     "output_type": "execute_result"
    },
    {
     "data": {
      "image/png": "[encoded data removed]",
      "text/plain": [
       "<Figure size 432x288 with 1 Axes>"
      ]
     },
     "metadata": {
      "needs_background": "light"
     },
     "output_type": "display_data"
    }
   ],
   "source": [
    "plt.plot(history.history['accuracy'])\n",
    "plt.plot(history.history['val_accuracy'])\n",
    "plt.xlabel('Epochs')\n",
    "plt.ylabel('accuracy')\n",
    "plt.title('accuracy Plot')\n",
    "plt.legend(['train','test'])"
   ]
  },
  {
   "cell_type": "code",
   "execution_count": null,
   "id": "96b29e85",
   "metadata": {},
   "outputs": [],
   "source": []
  }
 ],
 "metadata": {
  "kernelspec": {
   "display_name": "Python 3 (ipykernel)",
   "language": "python",
   "name": "python3"
  },
  "language_info": {
   "codemirror_mode": {
    "name": "ipython",
    "version": 3
   },
   "file_extension": ".py",
   "mimetype": "text/x-python",
   "name": "python",
   "nbconvert_exporter": "python",
   "pygments_lexer": "ipython3",
   "version": "3.9.13"
  }
 },
 "nbformat": 4,
 "nbformat_minor": 5
}
